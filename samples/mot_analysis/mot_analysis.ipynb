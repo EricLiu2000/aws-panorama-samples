{
 "cells": [
  {
   "cell_type": "markdown",
   "id": "cffd59b9",
   "metadata": {},
   "source": [
    "# Multi object tracking(MOT) analysis Sample Application\n",
    "\n",
    "This notebook shows how to create an analysis app for Panorama using a pretrained PyTorch model."
   ]
  },
  {
   "cell_type": "markdown",
   "id": "47498764",
   "metadata": {},
   "source": [
    "--- \n",
    "\n",
    "1. [Prerequisites](#Prerequisites)\n",
    "1. [Set up](#Set-up)\n",
    "1. [Download model](#Download-model)\n",
    "1. [Build application](#Build-application)\n",
    "1. [Upload application](#Upload-application)\n",
    "1. [Deploy app to device](#Deploy-app-to-device)"
   ]
  },
  {
   "cell_type": "markdown",
   "id": "8a2a3ae2",
   "metadata": {},
   "source": [
    "# Prerequisites"
   ]
  },
  {
   "cell_type": "markdown",
   "id": "9aaddd01",
   "metadata": {},
   "source": [
    "1. In a terminal session on this Jupyter notebook server, run `aws configure`. This allows this notebook server to access Panorama resources and deploy applications on your behalf."
   ]
  },
  {
   "cell_type": "markdown",
   "id": "b1c2f6f8",
   "metadata": {},
   "source": [
    "# Set up"
   ]
  },
  {
   "cell_type": "markdown",
   "id": "352b4749",
   "metadata": {},
   "source": [
    "Import libraries for use with this notebook environment, you do not need these libraries when you write your application code."
   ]
  },
  {
   "cell_type": "code",
   "execution_count": null,
   "id": "1183276e",
   "metadata": {},
   "outputs": [],
   "source": [
    "import sys\n",
    "import os\n",
    "import time\n",
    "import json\n",
    "\n",
    "import boto3\n",
    "import sagemaker\n",
    "\n",
    "import matplotlib.pyplot as plt\n",
    "from IPython.core.magic import register_cell_magic\n",
    "\n",
    "# configure matplotlib\n",
    "%matplotlib inline\n",
    "plt.rcParams[\"figure.figsize\"] = (20,20)\n",
    "\n",
    "# register custom magic command\n",
    "@register_cell_magic\n",
    "def save_cell(line, cell):\n",
    "    'Save python code block to a file'\n",
    "    with open(line, 'wt') as fd:\n",
    "        fd.write(cell)"
   ]
  },
  {
   "cell_type": "markdown",
   "id": "00f12da5",
   "metadata": {
    "tags": []
   },
   "source": [
    "## Notebook parameters\n",
    "Global constants that help the notebook create Panorama resources on your behalf."
   ]
  },
  {
   "cell_type": "code",
   "execution_count": null,
   "id": "e548fe3a-937b-4a3b-a3fe-bc94accbb6d6",
   "metadata": {},
   "outputs": [],
   "source": [
    "# Device ID, should look like: device-oc66nax4cgzwhyuaeyifrqowue\n",
    "DEVICE_ID = input( 'DEVICE_ID (format: device-*)' ).strip()\n",
    "\n",
    "# Enter your desired AWS Panorama region\n",
    "AWS_REGION = input( 'AWS_REGION (e.g. us-east-1)' ).strip()\n",
    "\n",
    "# Enter application role to be deployed in panorama device (S3 and kinesis firehose required, secretsmanager and kinesis video are optional if want remote view)\n",
    "APPLICATION_ROLE = input( 'Application ROLE ARN' ).strip()\n",
    "\n",
    "# Precompiled sagemaker neo compatible yolox models are yolox_s_neo and yolox_m_neo\n",
    "ML_MODEL_FNAME = 'yolox_m_neo' "
   ]
  },
  {
   "cell_type": "code",
   "execution_count": null,
   "id": "82721929",
   "metadata": {
    "tags": []
   },
   "outputs": [],
   "source": [
    "# application name\n",
    "app_name = 'mot_analysis_app'\n",
    "\n",
    "## package names and node names\n",
    "code_package_name = 'MOT_ANALYSIS_CODE'\n",
    "camera_node_name = 'abstract_rtsp_media_source'\n",
    "\n",
    "container_asset_name = 'code_asset'\n",
    "\n",
    "sys.path.insert( 0, os.path.abspath( \"../common/test_utility\" ) )\n",
    "import panorama_test_utility\n",
    "\n",
    "# instantiate boto3 clients\n",
    "s3_client = boto3.client('s3')\n",
    "panorama_client = boto3.client('panorama', region_name=AWS_REGION)\n",
    "\n",
    "# AWS account ID\n",
    "account_id = boto3.client(\"sts\").get_caller_identity()[\"Account\"]"
   ]
  },
  {
   "cell_type": "markdown",
   "id": "d1034c1e",
   "metadata": {},
   "source": [
    "## Set up application\n",
    "\n",
    "Every application uses the creator's AWS Account ID as the prefix to uniquely identifies the application resources. Running `panorama-cli import-application` replaces the generic account Id with your account Id."
   ]
  },
  {
   "cell_type": "code",
   "execution_count": null,
   "id": "96ef4328",
   "metadata": {},
   "outputs": [],
   "source": [
    "!cd ./{app_name} && panorama-cli import-application"
   ]
  },
  {
   "cell_type": "markdown",
   "id": "000e62b8",
   "metadata": {
    "tags": []
   },
   "source": [
    "# Download model\n",
    "\n",
    "While working with the Panorama sample code, we provide pretrained models for you to use. Locally, our models need to be accessible by the application container, so we will store them in the `mot_analysis/mot_analysis_app/packages/(account_id)-MOT_ANALYSIS_CODE-1.0/src` folder. This step downloads the model artifacts from our Amazon S3 bucket to the local folder. If you want to use your own models, put your tar.gz file into the folder."
   ]
  },
  {
   "cell_type": "code",
   "execution_count": null,
   "id": "151ae7c1-d08a-4c7c-97ed-5ac3e4cac458",
   "metadata": {},
   "outputs": [],
   "source": [
    "# Downloads pretrained model for this sample.\n",
    "# This step takes some time, depending on your network environment.\n",
    "panorama_test_utility.download_sample_model( ML_MODEL_FNAME, f\"./mot_analysis_app/packages/{account_id}-{code_package_name}-1.0/src\" )\n",
    "\n",
    "# Unpack the downloaded model tarball\n",
    "!cd ./mot_analysis_app/packages/{account_id}-{code_package_name}-1.0/src && tar -xvzf {ML_MODEL_FNAME}.tar.gz && rm {ML_MODEL_FNAME}.tar.gz"
   ]
  },
  {
   "cell_type": "markdown",
   "id": "4df1a26a-e84b-48f3-a2c6-b289a5a0b4d1",
   "metadata": {
    "tags": []
   },
   "source": [
    "## Update camera streams\n",
    "\n",
    "In the AWS Panorama console, you can select the camera streams, but programmatically, you need to define the camera stream info for the cameras you are using with the app.\n",
    "\n",
    "We used an ```abstract data source``` here, usually this lets you select the pre-created camera source from the console. But programatically, we have to do the following steps\n",
    "\n",
    "\n",
    "- Create Camera\n",
    "- Create Override json file\n",
    "- Include the Override json file while are deploying the application"
   ]
  },
  {
   "cell_type": "markdown",
   "id": "c217bb6c-a15f-4ec8-b00b-b91fca369180",
   "metadata": {},
   "source": [
    "### Create New Camera\n",
    "\n",
    "Because we are using an ```abstract_rtsp_media_source```, we have to create a camera before we can use the ```abstract_rtsp_media_source```\n",
    "\n",
    "**NOTE** : Update your RTSP Info in the next cell, Username, Password and RTSP Stream URL"
   ]
  },
  {
   "cell_type": "code",
   "execution_count": null,
   "id": "b6f1b76e-b20c-46f2-b4d9-8a477fb65a6a",
   "metadata": {},
   "outputs": [],
   "source": [
    "#For testing purpose, use https://github.com/aler9/rtsp-simple-server to generate infitite live video using static file\n",
    "CAMERA_NAME = \"StreetSample\"\n",
    "CAMERA_CREDS = '{\"StreamUrl\": \"rtsp://192.168.35.44:8554/mystream\"}'"
   ]
  },
  {
   "cell_type": "code",
   "execution_count": null,
   "id": "53af9488-5e7c-4bb9-ba65-feaf06be8a4e",
   "metadata": {},
   "outputs": [],
   "source": [
    "res = !aws panorama create-node-from-template-job --template-type RTSP_CAMERA_STREAM \\\n",
    "    --output-package-name {CAMERA_NAME} \\\n",
    "    --output-package-version '1.0' \\\n",
    "    --node-name {CAMERA_NAME} \\\n",
    "    --template-parameters '{CAMERA_CREDS}'\n",
    "\n",
    "# FIXME : camera node creation fails if it already exists.\n",
    "# Should either ignore the already-exist error, or delete the node at the end of this notebook\n",
    "\n",
    "res = ''.join(res)\n",
    "print(res)\n",
    "res_json = json.loads(res)"
   ]
  },
  {
   "cell_type": "code",
   "execution_count": null,
   "id": "b94dc937-f62a-49a1-ae86-315b9a0c3266",
   "metadata": {},
   "outputs": [],
   "source": [
    "!aws panorama describe-node-from-template-job --job-id {res_json['JobId']}"
   ]
  },
  {
   "cell_type": "markdown",
   "id": "62921b7b-0669-45cb-b0b3-18087fc9be82",
   "metadata": {},
   "source": [
    "## Overriding camera node"
   ]
  },
  {
   "cell_type": "markdown",
   "id": "672873ea",
   "metadata": {},
   "source": [
    "If you want to override the camera configuration at deployment (for ex. deploy to another site) you can provide a deployment time override. Go to `mot_analysis_app/deployment_overrides/override_camera.json` file and replace YOUR_AWS_ACCOUNT_ID with your ACCOUNT_ID and YOUR_CAMERA_NAME with your camera name."
   ]
  },
  {
   "cell_type": "code",
   "execution_count": null,
   "id": "36e9c66f-3f32-4984-b5d8-be69251f022b",
   "metadata": {},
   "outputs": [],
   "source": [
    "# Update Account ID\n",
    "with open( f\"./{app_name}/deployment_overrides/override_camera.json\", \"r\" ) as fd:\n",
    "    override_json = json.load(fd)\n",
    "\n",
    "override_json['nodeGraphOverrides']['packages'][0]['name'] = '{}::{}'.format(account_id, CAMERA_NAME)\n",
    "override_json['nodeGraphOverrides']['nodes'][0]['name'] = CAMERA_NAME\n",
    "override_json['nodeGraphOverrides']['nodes'][0]['interface'] = '{}::{}.{}'.format(account_id, CAMERA_NAME, CAMERA_NAME)    \n",
    "override_json['nodeGraphOverrides']['nodeOverrides'][0]['with'][0]['name'] = CAMERA_NAME    \n",
    "\n",
    "with open( f\"./{app_name}/deployment_overrides/override_camera.json\", \"w\") as fd:\n",
    "    json.dump(override_json, fd)"
   ]
  },
  {
   "cell_type": "markdown",
   "id": "337238ff",
   "metadata": {},
   "source": [
    "### Build application"
   ]
  },
  {
   "cell_type": "code",
   "execution_count": null,
   "id": "25f5b4b1",
   "metadata": {},
   "outputs": [],
   "source": [
    "%%capture captured_output\n",
    "\n",
    "# Building container image.This process takes time (5min ~ 10min)\n",
    "# FIXME : without %%capture, browser tab crashes because of too much output from the command.\n",
    "\n",
    "!cd ./{app_name} && panorama-cli build \\\n",
    "    --container-asset-name {container_asset_name} \\\n",
    "    --package-path packages/{account_id}-{code_package_name}-1.0"
   ]
  },
  {
   "cell_type": "markdown",
   "id": "55d03bbd",
   "metadata": {},
   "source": [
    "### Special flags in package.json\n",
    "\n",
    "* Step 1 : Before you deploy the application, open mot_analysis/mot_analysis_app/packages/(account-id)-MOT_ANALYSIS_CODE-1.0/package.json\n",
    "* Step 2 : Add the following flags to the package.json\n",
    "\n",
    "```\n",
    "\"requirements\": \n",
    "            [{\n",
    "                    \"type\" : \"hardware_access\",\n",
    "                    \"nvAccelerators\": [ \n",
    "                        {\n",
    "                            \"deviceType\": \"nvhost_gpu\",\n",
    "                            \"sharedResourcePolicy\": {\n",
    "                                \"policy\" : \"allow_all\"\n",
    "                            }\n",
    "                        }\n",
    "                    ]\n",
    "            }]\n",
    "```\n",
    "\n",
    "The assets should look something like this\n",
    "\n",
    "```\n",
    "\"assets\": [\n",
    "    {\n",
    "        \"name\": \"code_asset\",\n",
    "        \"implementations\": [\n",
    "            {\n",
    "                \"type\": \"container\",\n",
    "                \"assetUri\": \"9a49a98784f4571adacc417f00942dac7ef2e34686eef21dca9fcb7f4b7ffd70.tar.gz\",\n",
    "                \"descriptorUri\": \"4bab130ec48eea84e072d9fe813b947e9d9610b2924099036b0165026a91d306.json\",\n",
    "                \"requirements\": \n",
    "                [{\n",
    "                    \"type\" : \"hardware_access\",\n",
    "                    \"nvAccelerators\": [ \n",
    "                        {\n",
    "                            \"deviceType\": \"nvhost_gpu\",\n",
    "                            \"sharedResourcePolicy\": {\n",
    "                                \"policy\" : \"allow_all\"\n",
    "                            }\n",
    "                        }\n",
    "                    ]\n",
    "                }]\n",
    "            }\n",
    "        ]\n",
    "    }\n",
    "],\n",
    "```"
   ]
  },
  {
   "cell_type": "markdown",
   "id": "f017081e",
   "metadata": {},
   "source": [
    "### Upload application"
   ]
  },
  {
   "cell_type": "code",
   "execution_count": null,
   "id": "e8bc1f3b",
   "metadata": {},
   "outputs": [],
   "source": [
    "# This step takes some time, depending on your network environment.\n",
    "!cd ./{app_name} && panorama-cli package-application"
   ]
  },
  {
   "cell_type": "markdown",
   "id": "4a6794d7",
   "metadata": {},
   "source": [
    "### Ready for deploying to a device\n",
    "\n",
    "Congrats! Your app is now ready to deploy to a device. Next, you can continue in this notebook to deploy the app programmatically or you can go to the Panorama console and deploying using the AWS Console. The console makes it easier to select camera streams and select the devices you want to deploy to. Programmatic deployment is faster to complete and easier to automate."
   ]
  },
  {
   "cell_type": "markdown",
   "id": "e8e572a8",
   "metadata": {},
   "source": [
    "# Deploy app to device"
   ]
  },
  {
   "cell_type": "markdown",
   "id": "b59f04c5",
   "metadata": {},
   "source": [
    "Let's make sure the device we are deploying to is available."
   ]
  },
  {
   "cell_type": "code",
   "execution_count": null,
   "id": "c4cd42dc",
   "metadata": {},
   "outputs": [],
   "source": [
    "response = panorama_client.describe_device(\n",
    "    DeviceId= DEVICE_ID\n",
    ")\n",
    "\n",
    "print('You are deploying to Device: {}'.format(response['Name']))"
   ]
  },
  {
   "cell_type": "markdown",
   "id": "a09b151f",
   "metadata": {},
   "source": [
    "## Deploy app\n",
    "\n",
    "You are ready to deploy your app. Below, you can see an example of how to use the AWS CLI to deploy the app. Alternatively, you can use the boto3 SDK as you did above for getting the device information."
   ]
  },
  {
   "cell_type": "code",
   "execution_count": null,
   "id": "63cd44d3-cc80-4145-896f-eaefaed3370d",
   "metadata": {},
   "outputs": [],
   "source": [
    "with open(f\"./{app_name}/graphs/{app_name}/graph.json\") as fd:\n",
    "    manifest_payload = \"'%s'\" % json.dumps({\"PayloadData\":json.dumps(json.load(fd))})\n",
    "    \n",
    "with open(f\"./{app_name}/deployment_overrides/override_camera.json\") as fd:\n",
    "    override_payload = \"'%s'\" % json.dumps({\"PayloadData\":json.dumps(json.load(fd))})"
   ]
  },
  {
   "cell_type": "code",
   "execution_count": null,
   "id": "025e3640-a7f8-460d-b39e-6216ed46e719",
   "metadata": {},
   "outputs": [],
   "source": [
    "res = !aws panorama create-application-instance \\\n",
    "    --name {app_name} \\\n",
    "    --default-runtime-context-device {DEVICE_ID} \\\n",
    "    --manifest-payload {manifest_payload} \\\n",
    "    --manifest-overrides-payload {override_payload} \\\n",
    "    --runtime-role-arn {APPLICATION_ROLE}\n",
    "\n",
    "res = ''.join(res)\n",
    "print(res)\n",
    "res_json = json.loads(res)"
   ]
  },
  {
   "cell_type": "markdown",
   "id": "08db290f",
   "metadata": {},
   "source": [
    "### Check Application Status"
   ]
  },
  {
   "cell_type": "code",
   "execution_count": null,
   "id": "03691551-7dbb-451c-b3a3-a0a9b1fedfd1",
   "metadata": {},
   "outputs": [],
   "source": [
    "app_id = res_json['ApplicationInstanceId']\n",
    "print( \"Application Instance Id :\", app_id )\n",
    "\n",
    "progress_dots = panorama_test_utility.ProgressDots()\n",
    "while True:\n",
    "    response = panorama_client.describe_application_instance( ApplicationInstanceId = app_id )\n",
    "    status = response['Status']\n",
    "    progress_dots.update_status( f'{status} ({response[\"StatusDescription\"]})' )\n",
    "    if status in ('DEPLOYMENT_SUCCEEDED','DEPLOYMENT_FAILED'):\n",
    "        break\n",
    "    time.sleep(60)"
   ]
  },
  {
   "cell_type": "markdown",
   "id": "ad70b33a",
   "metadata": {},
   "source": [
    "# Clean up"
   ]
  },
  {
   "cell_type": "code",
   "execution_count": null,
   "id": "994b97f5-942e-4a95-8471-df627f4d272c",
   "metadata": {},
   "outputs": [],
   "source": [
    "panorama_test_utility.remove_application( DEVICE_ID, app_id )"
   ]
  },
  {
   "cell_type": "code",
   "execution_count": null,
   "id": "2ed106ae-bde0-434a-88b4-d3ddc27ea923",
   "metadata": {},
   "outputs": [],
   "source": [
    "nodes = panorama_client.list_nodes()\n",
    "for node in nodes['Nodes']:\n",
    "    print(f'Deleting {node[\"PackageId\"]}')\n",
    "    panorama_client.delete_package(ForceDelete=True, PackageId=node['PackageId'])"
   ]
  }
 ],
 "metadata": {
  "kernelspec": {
   "display_name": "Python 3",
   "language": "python",
   "name": "python3"
  },
  "language_info": {
   "codemirror_mode": {
    "name": "ipython",
    "version": 3
   },
   "file_extension": ".py",
   "mimetype": "text/x-python",
   "name": "python",
   "nbconvert_exporter": "python",
   "pygments_lexer": "ipython3",
   "version": "3.6.9"
  }
 },
 "nbformat": 4,
 "nbformat_minor": 5
}
